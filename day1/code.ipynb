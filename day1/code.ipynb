{
 "cells": [
  {
   "cell_type": "markdown",
   "metadata": {},
   "source": [
    "# Part 1"
   ]
  },
  {
   "cell_type": "markdown",
   "metadata": {},
   "source": [
    "The newly-improved calibration document consists of lines of text; each line originally contained a specific calibration value that the Elves now need to recover. On each line, the calibration value can be found by combining the first digit and the last digit (in that order) to form a single two-digit number.\n",
    "\n",
    "For example:\n",
    "\n",
    "<code>\n",
    "    1abc2\n",
    "    pqr3stu8vwx\n",
    "    a1b2c3d4e5f\n",
    "    treb7uchet\n",
    "</code>\n",
    "\n",
    "In this example, the calibration values of these four lines are 12, 38, 15, and 77. Adding these together produces 142."
   ]
  },
  {
   "cell_type": "code",
   "execution_count": 183,
   "metadata": {},
   "outputs": [],
   "source": [
    "def inLine_file(handle):\n",
    "        return f.readline().rstrip()"
   ]
  },
  {
   "cell_type": "code",
   "execution_count": 184,
   "metadata": {},
   "outputs": [],
   "source": [
    "def inLine_file(handle):\n",
    "        return f.readline().rstrip()"
   ]
  },
  {
   "cell_type": "code",
   "execution_count": 185,
   "metadata": {},
   "outputs": [],
   "source": [
    "def num_extraction(string):\n",
    "    extractedNum = []\n",
    "    finalNum = 0\n",
    "\n",
    "    lineList = list(string)\n",
    "    for i in lineList:\n",
    "        try:\n",
    "            extractedNum.append(int(i))\n",
    "        except:\n",
    "            continue\n",
    "\n",
    "    finalNum += extractedNum[0]*10 + extractedNum[-1]\n",
    "\n",
    "    return finalNum\n"
   ]
  },
  {
   "cell_type": "code",
   "execution_count": 186,
   "metadata": {},
   "outputs": [],
   "source": [
    "def calibration_retrival(source, scope):\n",
    "    calibration_value = 0\n",
    "    \n",
    "    if(scope == 1):\n",
    "        values = num_extraction\n",
    "    elif(scope == 2):\n",
    "        values = wordNum_extraction\n",
    "\n",
    "    inLine = inLine_file(source)\n",
    "    while(inLine):\n",
    "        calibration_value += values(inLine)\n",
    "        inLine = inLine_file(source)\n",
    "    \n",
    "    return calibration_value"
   ]
  },
  {
   "cell_type": "code",
   "execution_count": 187,
   "metadata": {},
   "outputs": [
    {
     "name": "stdout",
     "output_type": "stream",
     "text": [
      "54605\n"
     ]
    }
   ],
   "source": [
    "in_file = 'input.txt'\n",
    "f = open(in_file, 'r')\n",
    "\n",
    "print(calibration_retrival(f, scope = 1))"
   ]
  },
  {
   "cell_type": "markdown",
   "metadata": {},
   "source": [
    "# Part 2"
   ]
  },
  {
   "cell_type": "markdown",
   "metadata": {},
   "source": [
    "Your calculation isn't quite right. It looks like some of the digits are actually spelled out with letters: one, two, three, four, five, six, seven, eight, and nine also count as valid \"digits\".\n",
    "\n",
    "Equipped with this new information, you now need to find the real first and last digit on each line. For example:\n",
    "\n",
    "\n",
    "<code>\n",
    "two1nine\n",
    "eightwothree\n",
    "abcone2threexyz\n",
    "xtwone3four\n",
    "4nineeightseven2\n",
    "zoneight234\n",
    "7pqrstsixteen\n",
    "</code>\n",
    "\n",
    "In this example, the calibration values are 29, 83, 13, 24, 42, 14, and 76. Adding these together produces 281."
   ]
  },
  {
   "cell_type": "code",
   "execution_count": 188,
   "metadata": {},
   "outputs": [],
   "source": [
    "def isNum(inList, index):\n",
    "\n",
    "    lenght = len(inList)\n",
    "\n",
    "    if(lenght-index >= 3 and inList[index] == 'o' and inList[index+1] == 'n' and inList[index+2] == 'e'):\n",
    "        return 1\n",
    "    elif(lenght-index >= 3 and inList[index] == 't' and inList[index+1] == 'w' and inList[index+2] == 'o'):\n",
    "        return 2\n",
    "    elif(lenght-index >= 5 and inList[index] == 't' and inList[index+1] == 'h' and inList[index+2] == 'r' and inList[index+3] == 'e' and inList[index+4] == 'e'):\n",
    "        return 3\n",
    "    elif(lenght-index >= 4 and inList[index] == 'f' and inList[index+1] == 'o' and inList[index+2] == 'u' and inList[index+3] == 'r'):\n",
    "        return 4\n",
    "    elif(lenght-index >= 4 and inList[index] == 'f' and inList[index+1] == 'i' and inList[index+2] == 'v' and inList[index+3] == 'e'):  \n",
    "        return 5\n",
    "    elif(lenght-index >= 3 and inList[index] == 's' and inList[index+1] == 'i' and inList[index+2] == 'x'):\n",
    "        return 6\n",
    "    elif(lenght-index >= 5 and inList[index] == 's' and inList[index+1] == 'e' and inList[index+2] == 'v' and inList[index+3] == 'e' and inList[index+4] == 'n'):\n",
    "        return 7\n",
    "    elif(lenght-index >= 5 and inList[index] == 'e' and inList[index+1] == 'i' and inList[index+2] == 'g' and inList[index+3] == 'h' and inList[index+4] == 't'):\n",
    "        return 8   \n",
    "    elif(lenght-index >= 4 and inList[index] == 'n' and inList[index+1] == 'i' and inList[index+2] == 'n' and inList[index+3] == 'e'):\n",
    "        return 9\n",
    "    else:\n",
    "        return -1\n",
    "\n",
    "    "
   ]
  },
  {
   "cell_type": "code",
   "execution_count": 189,
   "metadata": {},
   "outputs": [],
   "source": [
    "def wordNum_extraction(string):\n",
    "    extractedNum = []\n",
    "    finalNum = 0\n",
    "\n",
    "    length = len(string)\n",
    "\n",
    "    lineList = list(string)\n",
    "    for j in range(1):\n",
    "        for i in range(length):\n",
    "            if(j):\n",
    "                i = length - i - 1\n",
    "            try:\n",
    "                extractedNum.append(int(lineList[i]))\n",
    "                break\n",
    "            except:\n",
    "                n = isNum(lineList, i)\n",
    "                if(n != -1):\n",
    "                    extractedNum.append(n)\n",
    "                    break\n",
    "                else:\n",
    "                    continue\n",
    "    \n",
    "    finalNum += extractedNum[0]*10 + extractedNum[-1]\n",
    "\n",
    "    return finalNum\n"
   ]
  },
  {
   "cell_type": "code",
   "execution_count": 190,
   "metadata": {},
   "outputs": [
    {
     "ename": "IndexError",
     "evalue": "list index out of range",
     "output_type": "error",
     "traceback": [
      "\u001b[0;31m---------------------------------------------------------------------------\u001b[0m",
      "\u001b[0;31mIndexError\u001b[0m                                Traceback (most recent call last)",
      "\u001b[1;32m/home/figini/Documents/adventOfCode2023/day1/code.ipynb Cell 12\u001b[0m line \u001b[0;36m4\n\u001b[1;32m      <a href='vscode-notebook-cell:/home/figini/Documents/adventOfCode2023/day1/code.ipynb#X14sZmlsZQ%3D%3D?line=0'>1</a>\u001b[0m in_file \u001b[39m=\u001b[39m \u001b[39m'\u001b[39m\u001b[39mtestCase2.txt\u001b[39m\u001b[39m'\u001b[39m\n\u001b[1;32m      <a href='vscode-notebook-cell:/home/figini/Documents/adventOfCode2023/day1/code.ipynb#X14sZmlsZQ%3D%3D?line=1'>2</a>\u001b[0m f \u001b[39m=\u001b[39m \u001b[39mopen\u001b[39m(in_file, \u001b[39m'\u001b[39m\u001b[39mr\u001b[39m\u001b[39m'\u001b[39m)\n\u001b[0;32m----> <a href='vscode-notebook-cell:/home/figini/Documents/adventOfCode2023/day1/code.ipynb#X14sZmlsZQ%3D%3D?line=3'>4</a>\u001b[0m \u001b[39mprint\u001b[39m(calibration_retrival(f, scope \u001b[39m=\u001b[39;49m \u001b[39m2\u001b[39;49m))\n",
      "\u001b[1;32m/home/figini/Documents/adventOfCode2023/day1/code.ipynb Cell 12\u001b[0m line \u001b[0;36m1\n\u001b[1;32m      <a href='vscode-notebook-cell:/home/figini/Documents/adventOfCode2023/day1/code.ipynb#X14sZmlsZQ%3D%3D?line=8'>9</a>\u001b[0m inLine \u001b[39m=\u001b[39m inLine_file(source)\n\u001b[1;32m     <a href='vscode-notebook-cell:/home/figini/Documents/adventOfCode2023/day1/code.ipynb#X14sZmlsZQ%3D%3D?line=9'>10</a>\u001b[0m \u001b[39mwhile\u001b[39;00m(inLine):\n\u001b[0;32m---> <a href='vscode-notebook-cell:/home/figini/Documents/adventOfCode2023/day1/code.ipynb#X14sZmlsZQ%3D%3D?line=10'>11</a>\u001b[0m     calibration_value \u001b[39m+\u001b[39m\u001b[39m=\u001b[39m values(inLine)\n\u001b[1;32m     <a href='vscode-notebook-cell:/home/figini/Documents/adventOfCode2023/day1/code.ipynb#X14sZmlsZQ%3D%3D?line=11'>12</a>\u001b[0m     inLine \u001b[39m=\u001b[39m inLine_file(source)\n\u001b[1;32m     <a href='vscode-notebook-cell:/home/figini/Documents/adventOfCode2023/day1/code.ipynb#X14sZmlsZQ%3D%3D?line=13'>14</a>\u001b[0m \u001b[39mreturn\u001b[39;00m calibration_value\n",
      "\u001b[1;32m/home/figini/Documents/adventOfCode2023/day1/code.ipynb Cell 12\u001b[0m line \u001b[0;36m2\n\u001b[1;32m     <a href='vscode-notebook-cell:/home/figini/Documents/adventOfCode2023/day1/code.ipynb#X14sZmlsZQ%3D%3D?line=19'>20</a>\u001b[0m             \u001b[39melse\u001b[39;00m:\n\u001b[1;32m     <a href='vscode-notebook-cell:/home/figini/Documents/adventOfCode2023/day1/code.ipynb#X14sZmlsZQ%3D%3D?line=20'>21</a>\u001b[0m                 \u001b[39mcontinue\u001b[39;00m\n\u001b[0;32m---> <a href='vscode-notebook-cell:/home/figini/Documents/adventOfCode2023/day1/code.ipynb#X14sZmlsZQ%3D%3D?line=22'>23</a>\u001b[0m finalNum \u001b[39m+\u001b[39m\u001b[39m=\u001b[39m extractedNum[\u001b[39m0\u001b[39;49m]\u001b[39m*\u001b[39m\u001b[39m10\u001b[39m \u001b[39m+\u001b[39m extractedNum[\u001b[39m-\u001b[39m\u001b[39m1\u001b[39m]\n\u001b[1;32m     <a href='vscode-notebook-cell:/home/figini/Documents/adventOfCode2023/day1/code.ipynb#X14sZmlsZQ%3D%3D?line=24'>25</a>\u001b[0m \u001b[39mreturn\u001b[39;00m finalNum\n",
      "\u001b[0;31mIndexError\u001b[0m: list index out of range"
     ]
    }
   ],
   "source": [
    "in_file = 'testCase2.txt'\n",
    "f = open(in_file, 'r')\n",
    "\n",
    "print(calibration_retrival(f, scope = 2))"
   ]
  }
 ],
 "metadata": {
  "kernelspec": {
   "display_name": "Python 3",
   "language": "python",
   "name": "python3"
  },
  "language_info": {
   "codemirror_mode": {
    "name": "ipython",
    "version": 3
   },
   "file_extension": ".py",
   "mimetype": "text/x-python",
   "name": "python",
   "nbconvert_exporter": "python",
   "pygments_lexer": "ipython3",
   "version": "3.11.2"
  }
 },
 "nbformat": 4,
 "nbformat_minor": 2
}
